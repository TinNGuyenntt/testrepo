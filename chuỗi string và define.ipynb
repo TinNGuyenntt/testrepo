{
 "cells": [
  {
   "cell_type": "code",
   "execution_count": 3,
   "id": "fda36b1b",
   "metadata": {},
   "outputs": [],
   "source": [
    "##Define\n",
    "def sapxepnhodenlon():\n",
    "    \"\"\"sap xep cac so trong list tu nho den lon\"\"\"\n",
    "    L=[1,2,4,-5,7,9,3]\n",
    "    for j in range (len(L)):\n",
    "        minVal=L[j]\n",
    "        idx=j\n",
    "        c=j # bien chay theo dof\n",
    "        for i in range(j,len(L)):\n",
    "            if L[i]<minVal:\n",
    "                minVal= L[i]\n",
    "                idx=c #luu bien tai noi min\n",
    "            c+=1\n",
    "        print(idx,minVal)\n",
    "        tmp = L[j] # dung bien luu tam gtri vi tri dau\n",
    "        L[j]=minVal #thay gia tri min vao diem dau\n",
    "        L[idx]= tmp #vi tri gia tri min dc thay bang gia tri dau\n",
    "        print(L)\n",
    "\n"
   ]
  },
  {
   "cell_type": "code",
   "execution_count": 35,
   "id": "03929ed2",
   "metadata": {},
   "outputs": [],
   "source": [
    "##Define\n",
    "def sapxeplondennho():    \n",
    "    L=[1,2,4,-5,7,9,3]\n",
    "    for j in range (len(L)):\n",
    "        maxVal=L[j]\n",
    "        idx=j\n",
    "        c=j # bien chay theo dof\n",
    "        for i in range(j,len(L)):\n",
    "            if L[i]>maxVal:\n",
    "                maxVal= L[i]\n",
    "                idx=c #luu bien tai noi max\n",
    "            c+=1 #bien tang theo i\n",
    "        tmp = L[j] # dung bien luu tam gtri vi tri dau\n",
    "        L[j]=maxVal #thay gia tri max vao diem dau\n",
    "        L[idx]= tmp #vi tri gia tri max dc thay bang gia tri dau\n",
    "    print(L)\n"
   ]
  },
  {
   "cell_type": "code",
   "execution_count": 18,
   "id": "4790a63b",
   "metadata": {},
   "outputs": [],
   "source": [
    "##Define\n",
    "def Messenger(msg):\n",
    "    if isinstance(msg,str):\n",
    "        print(msg)\n",
    "    else:\n",
    "        print(\"your input is not a string\")\n",
    "        print(\"here is what is supplied : \",type(msg))\n",
    "def trungbinhnhan(a,b,c,d):\n",
    "    \"\"\" tbn1 gom a vs b , tbn2 gom c vs d , tbn3 gom a,b,c,d\"\"\"\n",
    "    if isinstance (a,(int,float))  and isinstance (b,(int,float))  and isinstance (c,(int,float))  and isinstance (d,(int,float)):\n",
    "        tbn1= a*b/2\n",
    "        tbn2=c*d/2\n",
    "        tbn3= (a*b*c*d)/4    \n",
    "        print(\"tbn1:\",tbn1,\"tbn2:\",tbn2, \"tbn3:\",tbn3)\n",
    "    else:\n",
    "        print(\"your input must be float or int\")\n"
   ]
  },
  {
   "cell_type": "code",
   "execution_count": 4,
   "id": "4ff67492",
   "metadata": {},
   "outputs": [
    {
     "name": "stdout",
     "output_type": "stream",
     "text": [
      "3 -5\n",
      "[-5, 2, 4, 1, 7, 9, 3]\n",
      "3 1\n",
      "[-5, 1, 4, 2, 7, 9, 3]\n",
      "3 2\n",
      "[-5, 1, 2, 4, 7, 9, 3]\n",
      "6 3\n",
      "[-5, 1, 2, 3, 7, 9, 4]\n",
      "6 4\n",
      "[-5, 1, 2, 3, 4, 9, 7]\n",
      "6 7\n",
      "[-5, 1, 2, 3, 4, 7, 9]\n",
      "6 9\n",
      "[-5, 1, 2, 3, 4, 7, 9]\n"
     ]
    }
   ],
   "source": [
    "sapxepnhodenlon()"
   ]
  },
  {
   "cell_type": "code",
   "execution_count": 25,
   "id": "91dd8b6f",
   "metadata": {},
   "outputs": [
    {
     "name": "stdout",
     "output_type": "stream",
     "text": [
      "Help on function sapxepnhodenlon in module __main__:\n",
      "\n",
      "sapxepnhodenlon()\n",
      "    sap xep cac so trong list tu nho den lon\n",
      "\n"
     ]
    }
   ],
   "source": [
    "help(sapxepnhodenlon)"
   ]
  },
  {
   "cell_type": "code",
   "execution_count": 44,
   "id": "d20f9c5e",
   "metadata": {},
   "outputs": [
    {
     "name": "stdout",
     "output_type": "stream",
     "text": [
      "your input is not a string\n",
      "here is what is supplied :  <class 'int'>\n"
     ]
    }
   ],
   "source": [
    "##Define\n",
    "Messenger(23)"
   ]
  },
  {
   "cell_type": "code",
   "execution_count": 19,
   "id": "72bc7776",
   "metadata": {},
   "outputs": [
    {
     "name": "stdout",
     "output_type": "stream",
     "text": [
      "Hi How are you\n",
      "your input must be float or int\n"
     ]
    }
   ],
   "source": [
    "##Define\n",
    "Messenger(\"Hi How are you\")\n",
    "trungbinhnhan(4,5,6,\"you\")"
   ]
  },
  {
   "cell_type": "code",
   "execution_count": 55,
   "id": "2799a86f",
   "metadata": {},
   "outputs": [
    {
     "name": "stdout",
     "output_type": "stream",
     "text": [
      "55\n"
     ]
    }
   ],
   "source": [
    "##Define\n",
    "def myadd(a,b):\n",
    "    x= b+a\n",
    "    return x\n",
    "def gg(s=6):\n",
    "    print(s)\n",
    "\n",
    "gg(55)\n",
    "    "
   ]
  },
  {
   "cell_type": "code",
   "execution_count": 43,
   "id": "1eb256bb",
   "metadata": {},
   "outputs": [
    {
     "name": "stdout",
     "output_type": "stream",
     "text": [
      "1680\n"
     ]
    }
   ],
   "source": [
    "##Define\n",
    "def tong(*n):\n",
    "    s=1\n",
    "    for i in range (len(n)):\n",
    "        s=s*n[i]\n",
    "    return s\n",
    "print(tong(2,4,5,6,7))"
   ]
  },
  {
   "cell_type": "code",
   "execution_count": 51,
   "id": "f291d8e2",
   "metadata": {},
   "outputs": [
    {
     "name": "stdout",
     "output_type": "stream",
     "text": [
      "ten: a , gia tri la: 5\n",
      "ten: b , gia tri la: 9\n",
      "ten: c , gia tri la: avc\n"
     ]
    }
   ],
   "source": [
    "##Define\n",
    "def intatca(**y):\n",
    "    for i in y:\n",
    "        print(\"ten:\",i,\", gia tri la:\",y[i])\n",
    "intatca(a=5,b=9,c=\"avc\")\n"
   ]
  },
  {
   "cell_type": "code",
   "execution_count": 68,
   "id": "0311a5ed",
   "metadata": {},
   "outputs": [
    {
     "name": "stdout",
     "output_type": "stream",
     "text": [
      "2\n",
      "5\n",
      "6\n",
      "7\n",
      "3\n",
      "6\n",
      "8\n"
     ]
    }
   ],
   "source": [
    "L=[2,5,6,7]\n",
    "def ff(L2=[3,6,8]):\n",
    "    for i in L2:\n",
    "        print(i)\n",
    "ff(L)\n",
    "ff()"
   ]
  },
  {
   "cell_type": "code",
   "execution_count": 16,
   "id": "9952a398",
   "metadata": {},
   "outputs": [],
   "source": [
    "##module\n",
    "import sys\n",
    "sys.path.append('D:/25project/')"
   ]
  },
  {
   "cell_type": "code",
   "execution_count": 21,
   "id": "c9e08eba",
   "metadata": {},
   "outputs": [],
   "source": [
    "import module3 as buoc3\n",
    "##cach tiep theo khi xuat truc tiep\n",
    "#from module2 import addallnumber"
   ]
  },
  {
   "cell_type": "code",
   "execution_count": 22,
   "id": "a028a8c5",
   "metadata": {},
   "outputs": [
    {
     "name": "stdout",
     "output_type": "stream",
     "text": [
      "Help on module module3:\n",
      "\n",
      "NAME\n",
      "    module3 - # coding: utf-8\n",
      "\n",
      "FUNCTIONS\n",
      "    addallnumber(*m)\n",
      "    \n",
      "    kiemtracophailaso(*n)\n",
      "    \n",
      "    kiemtracophailaso2(L)\n",
      "\n",
      "FILE\n",
      "    d:\\25project\\module3.py\n",
      "\n",
      "\n"
     ]
    }
   ],
   "source": [
    "help(buoc3)"
   ]
  },
  {
   "cell_type": "code",
   "execution_count": 26,
   "id": "9ff7dc6e",
   "metadata": {},
   "outputs": [
    {
     "name": "stdout",
     "output_type": "stream",
     "text": [
      "True\n",
      "36\n"
     ]
    }
   ],
   "source": [
    "print(buoc3.kiemtracophailaso(2,5,4))\n",
    "c= buoc3.addallnumber(4,8,9,15)\n",
    "print(c)"
   ]
  },
  {
   "cell_type": "code",
   "execution_count": 23,
   "id": "eb832f68",
   "metadata": {},
   "outputs": [
    {
     "data": {
      "text/plain": [
       "True"
      ]
     },
     "execution_count": 23,
     "metadata": {},
     "output_type": "execute_result"
    }
   ],
   "source": [
    "buoc3.kiemtracophailaso2([5,6,7,4])"
   ]
  },
  {
   "cell_type": "code",
   "execution_count": 39,
   "id": "18cf323f",
   "metadata": {},
   "outputs": [
    {
     "name": "stdout",
     "output_type": "stream",
     "text": [
      "  How are y\n",
      "y hot    \n",
      "  Hwaey\n",
      "     toh yrev si tI ?yadot     uoy era woH      \n"
     ]
    }
   ],
   "source": [
    "###string\n",
    "a=\"      How are you     today? It is very hot     \"\n",
    "print(a[4:15])\n",
    "print(a[-10:-1])\n",
    "print(a[2:15:2])\n",
    "print(a[::-1])"
   ]
  },
  {
   "cell_type": "code",
   "execution_count": 47,
   "id": "4c7efd4e",
   "metadata": {},
   "outputs": [
    {
     "name": "stdout",
     "output_type": "stream",
     "text": [
      "How are you     today? It is very hot HOW ARE YOU     TODAY? IT IS VERY HOT how are you     today? it is very hot\n",
      "How are you     today? It is very nice\n"
     ]
    }
   ],
   "source": [
    "###string\n",
    "b=a.strip()\n",
    "c=b.upper()\n",
    "d=b.lower()\n",
    "print(b,c,d)\n",
    "e=b.replace('hot','nice')\n",
    "print(e)"
   ]
  },
  {
   "cell_type": "code",
   "execution_count": 49,
   "id": "03c2df5d",
   "metadata": {},
   "outputs": [
    {
     "name": "stdout",
     "output_type": "stream",
     "text": [
      "['abc', 'def', 'ghi', 'mno']\n"
     ]
    }
   ],
   "source": [
    "###string\n",
    "f=\"abc,def,ghi,mno\"\n",
    "L=f.split(',')\n",
    "print(L)"
   ]
  },
  {
   "cell_type": "code",
   "execution_count": 65,
   "id": "944e2b38",
   "metadata": {},
   "outputs": [
    {
     "name": "stdout",
     "output_type": "stream",
     "text": [
      "How are you     today? it is very hot\n"
     ]
    },
    {
     "data": {
      "text/plain": [
       "1"
      ]
     },
     "execution_count": 65,
     "metadata": {},
     "output_type": "execute_result"
    }
   ],
   "source": [
    "###string\n",
    "print(b.capitalize())\n",
    "b.count(\"o\",5,10)"
   ]
  },
  {
   "cell_type": "code",
   "execution_count": 70,
   "id": "db6a63d4",
   "metadata": {},
   "outputs": [
    {
     "name": "stdout",
     "output_type": "stream",
     "text": [
      "I have \"two things\" here\n",
      "I have 'two things' here\n",
      "I have \n",
      " two things here\n",
      "I have \t two things here\n",
      "C:\n",
      "ame\\drive\n",
      "C:\\name\\drive\n"
     ]
    }
   ],
   "source": [
    "###string\n",
    "print(\"I have \\\"two things\\\" here\")\n",
    "print(\"I have 'two things' here\")\n",
    "print(\"I have \\n two things here\")\n",
    "print(\"I have \\t two things here\")\n",
    "print(\"C:\\name\\drive\")\n",
    "print(r\"C:\\name\\drive\")\n",
    "\n"
   ]
  },
  {
   "cell_type": "code",
   "execution_count": 102,
   "id": "2b519f1a",
   "metadata": {},
   "outputs": [],
   "source": [
    "#data structure\n",
    "L=[12,\"banana\",5.3]\n",
    "T=(12,\"banana\",5.3)\n",
    "S={12,\"banana\",5.3}\n",
    "D={\"Val\":\"banana\",\"key\":5.3}"
   ]
  },
  {
   "cell_type": "code",
   "execution_count": 103,
   "id": "3dc163d5",
   "metadata": {},
   "outputs": [
    {
     "name": "stdout",
     "output_type": "stream",
     "text": [
      "banana\n",
      "False\n",
      "banana\n",
      "banana\n"
     ]
    }
   ],
   "source": [
    "#data structure\n",
    "print(L[1])\n",
    "print(3 in S)\n",
    "print(T[1])\n",
    "print(D[\"Val\"])"
   ]
  },
  {
   "cell_type": "code",
   "execution_count": 92,
   "id": "0b72b12a",
   "metadata": {},
   "outputs": [
    {
     "name": "stdout",
     "output_type": "stream",
     "text": [
      "[12, 'banana', 5.3, 'game', 'game', 'game', 'game']\n",
      "{'game', 5.3, 'more', 'banana', 'item', 12}\n",
      "{'game', 5.3, 'more', 'banana', 'item', 12}\n",
      "{'Val': '245', 'key': 5.3, 'newkey': 10}\n"
     ]
    }
   ],
   "source": [
    "#data structure\n",
    "L= L+[\"game\"]\n",
    "print(L)\n",
    "S.add(\"game\")\n",
    "print(S)\n",
    "S.update({\"more\",\"item\"})\n",
    "print(S)\n",
    "D[\"Val\"] = \"245\"\n",
    "D[\"newkey\"] = 10\n",
    "print(D)"
   ]
  },
  {
   "cell_type": "code",
   "execution_count": 106,
   "id": "06665078",
   "metadata": {},
   "outputs": [
    {
     "name": "stdout",
     "output_type": "stream",
     "text": [
      "[12, 'banana', 'banana'] {12, 5.3} {'key': 5.3}\n"
     ]
    }
   ],
   "source": [
    "#data structure\n",
    "L= L+[\"banana\"] # L.append(\"banana\")\n",
    "S.add(\"banana\")\n",
    "D[\"Val\"] = \"245\"\n",
    "del L[2]\n",
    "S.remove('banana')\n",
    "del D[\"Val\"]\n",
    "print(L,S,D)"
   ]
  },
  {
   "cell_type": "code",
   "execution_count": 107,
   "id": "ee781423",
   "metadata": {},
   "outputs": [
    {
     "name": "stdout",
     "output_type": "stream",
     "text": [
      "[12, 'banana', 'banana']\n",
      "['banana', 'banana']\n",
      "[12, 'banana']\n"
     ]
    }
   ],
   "source": [
    "#data structure\n",
    "print(L)\n",
    "print(L[1:3])\n",
    "print(L[::2])"
   ]
  },
  {
   "cell_type": "code",
   "execution_count": null,
   "id": "0dc8a4da",
   "metadata": {},
   "outputs": [],
   "source": []
  }
 ],
 "metadata": {
  "kernelspec": {
   "display_name": "Python 3",
   "language": "python",
   "name": "python3"
  },
  "language_info": {
   "codemirror_mode": {
    "name": "ipython",
    "version": 3
   },
   "file_extension": ".py",
   "mimetype": "text/x-python",
   "name": "python",
   "nbconvert_exporter": "python",
   "pygments_lexer": "ipython3",
   "version": "3.8.8"
  }
 },
 "nbformat": 4,
 "nbformat_minor": 5
}
